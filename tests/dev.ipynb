{
 "cells": [
  {
   "cell_type": "code",
   "execution_count": 3,
   "metadata": {},
   "outputs": [],
   "source": [
    "from bson import ObjectId\n",
    "import json"
   ]
  },
  {
   "cell_type": "code",
   "execution_count": 2,
   "metadata": {},
   "outputs": [
    {
     "data": {
      "text/plain": [
       "ObjectId('624858d19c2c2fd74a148267')"
      ]
     },
     "execution_count": 2,
     "metadata": {},
     "output_type": "execute_result"
    }
   ],
   "source": [
    "ObjectId()"
   ]
  },
  {
   "cell_type": "code",
   "execution_count": 23,
   "metadata": {},
   "outputs": [],
   "source": [
    "from ukw_tools.classes import Image, ImageCollection\n",
    "from ukw_tools.classes import Examination\n",
    "from faker import Faker\n",
    "from pathlib import Path\n",
    "import cv2\n",
    "\n",
    "fake = Faker()\n",
    "def generate_test_examination(\n",
    "    examination_type:str=None,\n",
    "    is_video:bool=False,\n",
    "):\n",
    "    \"\"\"Generate a test examination.\"\"\"\n",
    "\n",
    "    examination_types = [\"gastroscopy\", \"colonoscopy\", \"unknown\"]\n",
    "    if not examination_type:\n",
    "        examination_type = fake.random_element(elements=examination_types)\n",
    "    assert examination_type in examination_types\n",
    "\n",
    "    is_video = True\n",
    "    examination_type = \"colonoscopy\"\n",
    "\n",
    "    examination = Examination(**{\n",
    "        \"id\": ObjectId(),\n",
    "        \"origin\": fake.pystr(),\n",
    "        \"origin_category\": fake.pystr(),\n",
    "        \"examination_type\": \"colonoscopy\",\n",
    "        \"is_video\": is_video, #examination_types[fake.pyint(0,2)]\n",
    "    })\n",
    "    if is_video:\n",
    "        examination.video_key = \"test_video.mp4\"#fake.pystr()\n",
    "        examination.id_extern = fake.pyint()\n",
    "        examination.path = Path(\"test_data/test_video.mp4\")\n",
    "        assert examination.path.exists()\n",
    "        examination.fps, examination.frame_count = examination.get_video_info()\n",
    "\n",
    "    examination.examiners = [fake.pystr() for _ in range(fake.pyint(1,3))]\n",
    "    examination.age = fake.pyint(20,90)\n",
    "    examination.gender = fake.pyint(0,1)\n",
    "\n",
    "    return examination\n",
    "\n",
    "def generate_examination_test_image_collection(examination:Examination):\n",
    "    images = {}\n",
    "    image_collection = {\n",
    "        \"id\": ObjectId(),\n",
    "        \"examination_id\": examination.id,\n",
    "        \"images\": {}\n",
    "    }\n",
    "    template = examination.get_frame_template()\n",
    "    for i in range(examination.frame_count):\n",
    "        _ = template.copy()\n",
    "        _[\"n\"] = i\n",
    "        _[\"id\"] = ObjectId()\n",
    "        images[_[\"id\"]] = Image(**_)\n",
    "        image_collection[\"images\"][i] = _[\"id\"]\n",
    "\n",
    "    return images, ImageCollection(**image_collection)\n",
    "# image = Image(**{\n",
    "#     \"id\": ObjectId(),\n",
    "#     \"examination_id\": ObjectId(),\n",
    "#     \"origin\": \"test_data\",\n",
    "\n",
    "# })"
   ]
  },
  {
   "cell_type": "code",
   "execution_count": 24,
   "metadata": {},
   "outputs": [],
   "source": [
    "examination = generate_test_examination()"
   ]
  },
  {
   "cell_type": "code",
   "execution_count": 25,
   "metadata": {},
   "outputs": [],
   "source": [
    "images, image_collection = generate_examination_test_image_collection(examination)\n",
    "\n"
   ]
  },
  {
   "cell_type": "code",
   "execution_count": 27,
   "metadata": {},
   "outputs": [],
   "source": [
    "from ukw_tools.classes import VideoExtern\n",
    "\n",
    "# Get videos Extern\n",
    "# requests -> videos -> List of VideoExtern\n",
    "# Make List of id_extern\n",
    "# Filter for new\n",
    "\n",
    "# For new:\n",
    "# Map Intervention Type\n",
    "# Generate Origin Category\n",
    "# Make Image Entries and Image Collection\n",
    "# Import Intervention + Histo Report\n",
    "# Import Intervention Freezes\n",
    "# Extract every third frame -> run AI -> Save Predictions -> Generate Segmentation Prediction\n"
   ]
  },
  {
   "cell_type": "code",
   "execution_count": null,
   "metadata": {},
   "outputs": [],
   "source": [
    "# Polyp Report Annotation Mask\n",
    "# Get Withdrawal-Times from Report Annotation\n",
    "# Export List of Reports without annotation"
   ]
  },
  {
   "cell_type": "code",
   "execution_count": 28,
   "metadata": {},
   "outputs": [],
   "source": [
    "# Get Extern Annotated Videos\n",
    "# Map To intern Segmentation (Similar to class VideoSegmentPrediction)\n",
    "# Calculate wt segments\n",
    "# Calculate Times\n",
    "# Compare all annotated times vs predicted times\n",
    "# Compare WT report vs WT annotated vs WT annotated-corrected vs WT predicted vs WT predicted-corrected\n",
    "# Split by Center\n",
    "\n"
   ]
  },
  {
   "cell_type": "code",
   "execution_count": 29,
   "metadata": {},
   "outputs": [],
   "source": [
    "# Make Active Learning Interface"
   ]
  },
  {
   "cell_type": "code",
   "execution_count": 30,
   "metadata": {},
   "outputs": [],
   "source": [
    "#  Implement GradCAm"
   ]
  },
  {
   "cell_type": "code",
   "execution_count": null,
   "metadata": {},
   "outputs": [],
   "source": []
  },
  {
   "cell_type": "code",
   "execution_count": null,
   "metadata": {},
   "outputs": [],
   "source": []
  }
 ],
 "metadata": {
  "interpreter": {
   "hash": "57d7f4b877c32353a93b1c6b05a5beca20a951c8e3e2984238899ecffa1f9fcc"
  },
  "kernelspec": {
   "display_name": "Python 3.10.0 ('torch')",
   "language": "python",
   "name": "python3"
  },
  "language_info": {
   "codemirror_mode": {
    "name": "ipython",
    "version": 3
   },
   "file_extension": ".py",
   "mimetype": "text/x-python",
   "name": "python",
   "nbconvert_exporter": "python",
   "pygments_lexer": "ipython3",
   "version": "3.10.0"
  },
  "orig_nbformat": 4
 },
 "nbformat": 4,
 "nbformat_minor": 2
}
